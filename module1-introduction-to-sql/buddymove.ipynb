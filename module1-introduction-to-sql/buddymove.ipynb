{
 "cells": [
  {
   "cell_type": "code",
   "execution_count": 1,
   "metadata": {},
   "outputs": [],
   "source": [
    "import pandas as pd"
   ]
  },
  {
   "cell_type": "code",
   "execution_count": 2,
   "metadata": {},
   "outputs": [],
   "source": [
    "df = pd.read_csv('buddymove_holidayiq.csv')"
   ]
  },
  {
   "cell_type": "code",
   "execution_count": 3,
   "metadata": {},
   "outputs": [
    {
     "output_type": "execute_result",
     "data": {
      "text/plain": "      User Id  Sports  Religious  Nature  Theatre  Shopping  Picnic\n0      User 1       2         77      79       69        68      95\n1      User 2       2         62      76       76        69      68\n2      User 3       2         50      97       87        50      75\n3      User 4       2         68      77       95        76      61\n4      User 5       2         98      54       59        95      86\n..        ...     ...        ...     ...      ...       ...     ...\n244  User 245      18        139     148      129       129     168\n245  User 246      22        114     228      104        84     168\n246  User 247      20        124     178      104       158     174\n247  User 248      20        133     149      139       144     213\n248  User 249      20        143     149      139       159     143\n\n[249 rows x 7 columns]",
      "text/html": "<div>\n<style scoped>\n    .dataframe tbody tr th:only-of-type {\n        vertical-align: middle;\n    }\n\n    .dataframe tbody tr th {\n        vertical-align: top;\n    }\n\n    .dataframe thead th {\n        text-align: right;\n    }\n</style>\n<table border=\"1\" class=\"dataframe\">\n  <thead>\n    <tr style=\"text-align: right;\">\n      <th></th>\n      <th>User Id</th>\n      <th>Sports</th>\n      <th>Religious</th>\n      <th>Nature</th>\n      <th>Theatre</th>\n      <th>Shopping</th>\n      <th>Picnic</th>\n    </tr>\n  </thead>\n  <tbody>\n    <tr>\n      <th>0</th>\n      <td>User 1</td>\n      <td>2</td>\n      <td>77</td>\n      <td>79</td>\n      <td>69</td>\n      <td>68</td>\n      <td>95</td>\n    </tr>\n    <tr>\n      <th>1</th>\n      <td>User 2</td>\n      <td>2</td>\n      <td>62</td>\n      <td>76</td>\n      <td>76</td>\n      <td>69</td>\n      <td>68</td>\n    </tr>\n    <tr>\n      <th>2</th>\n      <td>User 3</td>\n      <td>2</td>\n      <td>50</td>\n      <td>97</td>\n      <td>87</td>\n      <td>50</td>\n      <td>75</td>\n    </tr>\n    <tr>\n      <th>3</th>\n      <td>User 4</td>\n      <td>2</td>\n      <td>68</td>\n      <td>77</td>\n      <td>95</td>\n      <td>76</td>\n      <td>61</td>\n    </tr>\n    <tr>\n      <th>4</th>\n      <td>User 5</td>\n      <td>2</td>\n      <td>98</td>\n      <td>54</td>\n      <td>59</td>\n      <td>95</td>\n      <td>86</td>\n    </tr>\n    <tr>\n      <th>...</th>\n      <td>...</td>\n      <td>...</td>\n      <td>...</td>\n      <td>...</td>\n      <td>...</td>\n      <td>...</td>\n      <td>...</td>\n    </tr>\n    <tr>\n      <th>244</th>\n      <td>User 245</td>\n      <td>18</td>\n      <td>139</td>\n      <td>148</td>\n      <td>129</td>\n      <td>129</td>\n      <td>168</td>\n    </tr>\n    <tr>\n      <th>245</th>\n      <td>User 246</td>\n      <td>22</td>\n      <td>114</td>\n      <td>228</td>\n      <td>104</td>\n      <td>84</td>\n      <td>168</td>\n    </tr>\n    <tr>\n      <th>246</th>\n      <td>User 247</td>\n      <td>20</td>\n      <td>124</td>\n      <td>178</td>\n      <td>104</td>\n      <td>158</td>\n      <td>174</td>\n    </tr>\n    <tr>\n      <th>247</th>\n      <td>User 248</td>\n      <td>20</td>\n      <td>133</td>\n      <td>149</td>\n      <td>139</td>\n      <td>144</td>\n      <td>213</td>\n    </tr>\n    <tr>\n      <th>248</th>\n      <td>User 249</td>\n      <td>20</td>\n      <td>143</td>\n      <td>149</td>\n      <td>139</td>\n      <td>159</td>\n      <td>143</td>\n    </tr>\n  </tbody>\n</table>\n<p>249 rows × 7 columns</p>\n</div>"
     },
     "metadata": {},
     "execution_count": 3
    }
   ],
   "source": [
    "df"
   ]
  },
  {
   "cell_type": "code",
   "execution_count": null,
   "metadata": {},
   "outputs": [],
   "source": []
  }
 ],
 "metadata": {
  "language_info": {
   "codemirror_mode": {
    "name": "ipython",
    "version": 3
   },
   "file_extension": ".py",
   "mimetype": "text/x-python",
   "name": "python",
   "nbconvert_exporter": "python",
   "pygments_lexer": "ipython3",
   "version": "3.7.6-final"
  },
  "orig_nbformat": 2,
  "kernelspec": {
   "name": "python3",
   "display_name": "Python 3"
  }
 },
 "nbformat": 4,
 "nbformat_minor": 2
}