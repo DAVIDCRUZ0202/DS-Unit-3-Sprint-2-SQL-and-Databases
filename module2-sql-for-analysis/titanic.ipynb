{
 "cells": [
  {
   "cell_type": "code",
   "execution_count": 5,
   "metadata": {},
   "outputs": [
    {
     "output_type": "error",
     "ename": "ModuleNotFoundError",
     "evalue": "No module named 'psycopg2'",
     "traceback": [
      "\u001b[1;31m---------------------------------------------------------------------------\u001b[0m",
      "\u001b[1;31mModuleNotFoundError\u001b[0m                       Traceback (most recent call last)",
      "\u001b[1;32m<ipython-input-5-5f93cba5d633>\u001b[0m in \u001b[0;36m<module>\u001b[1;34m\u001b[0m\n\u001b[1;32m----> 1\u001b[1;33m \u001b[1;32mimport\u001b[0m \u001b[0mpsycopg2\u001b[0m\u001b[1;33m\u001b[0m\u001b[1;33m\u001b[0m\u001b[0m\n\u001b[0m\u001b[0;32m      2\u001b[0m \u001b[1;32mfrom\u001b[0m \u001b[0mdotenv\u001b[0m \u001b[1;32mimport\u001b[0m \u001b[0mload_dotenv\u001b[0m\u001b[1;33m\u001b[0m\u001b[1;33m\u001b[0m\u001b[0m\n\u001b[0;32m      3\u001b[0m \u001b[1;32mimport\u001b[0m \u001b[0mos\u001b[0m\u001b[1;33m\u001b[0m\u001b[1;33m\u001b[0m\u001b[0m\n\u001b[0;32m      4\u001b[0m \u001b[1;33m\u001b[0m\u001b[0m\n\u001b[0;32m      5\u001b[0m \u001b[0mload_dotenv\u001b[0m\u001b[1;33m(\u001b[0m\u001b[1;33m)\u001b[0m \u001b[1;31m#> loads contents of the .env file into the script's environment\u001b[0m\u001b[1;33m\u001b[0m\u001b[1;33m\u001b[0m\u001b[0m\n",
      "\u001b[1;31mModuleNotFoundError\u001b[0m: No module named 'psycopg2'"
     ]
    }
   ],
   "source": [
    "import psycopg2\n",
    "from dotenv import load_dotenv\n",
    "import os\n",
    "\n",
    "load_dotenv() #> loads contents of the .env file into the script's environment\n",
    "\n",
    "DB_NAME = os.getenv(\"DB_NAME\", default=\"OOPS\")\n",
    "DB_USER = os.getenv(\"DB_USER\", default=\"OOPS\")\n",
    "DB_PASSWORD = os.getenv(\"DB_PASSWORD\", default=\"OOPS\")\n",
    "DB_HOST = os.getenv(\"DB_HOST\", default=\"OOPS\")\n",
    "\n",
    "connection = psycopg2.connect(dbname=DB_NAME, user=DB_USER,\n",
    "                        password=DB_PASSWORD, host=DB_HOST)\n",
    "\n",
    "print(\"CONNECTION\", type(connection))\n",
    "\n",
    "\n",
    "cursor = connection.cursor()\n",
    "print(\"CURSOR\", type(cursor))\n"
   ]
  },
  {
   "cell_type": "code",
   "execution_count": 3,
   "metadata": {},
   "outputs": [
    {
     "output_type": "stream",
     "name": "stdout",
     "text": "Package               Version            \n--------------------- -------------------\nastroid               2.4.1              \nastropy               4.0.1.post1        \nattrs                 19.3.0             \nbackcall              0.1.0              \nbleach                3.1.5              \nbrotlipy              0.7.0              \ncategory-encoders     2.2.2              \ncertifi               2020.4.5.1         \ncffi                  1.14.0             \nchardet               3.0.4              \ncloudpickle           1.4.1              \ncolorama              0.4.3              \nconfuse               1.1.0              \ncryptography          2.9.2              \ncycler                0.10.0             \ncytoolz               0.10.1             \ndask                  2.16.0             \ndecorator             4.4.2              \ndefusedxml            0.6.0              \neli5                  0.10.1             \nentrypoints           0.3                \ngraphviz              0.14               \nhtmlmin               0.1.12             \nidna                  2.9                \nimagecodecs-lite      2019.12.3          \nImageHash             4.1.0              \nimageio               2.8.0              \nimportlib-metadata    1.6.0              \nipykernel             5.2.1              \nipython               7.14.0             \nipython-genutils      0.2.0              \nipywidgets            7.5.1              \nisort                 4.3.21             \njedi                  0.17.0             \nJinja2                2.11.2             \njoblib                0.14.1             \njson5                 0.9.0              \njsonschema            3.2.0              \njupyter-client        6.1.3              \njupyter-console       6.1.0              \njupyter-core          4.6.3              \njupyterlab            2.1.2              \njupyterlab-server     1.1.4              \nkiwisolver            1.2.0              \nlazy-object-proxy     1.4.3              \nllvmlite              0.31.0             \nMarkupSafe            1.1.1              \nmatplotlib            3.2.1              \nmccabe                0.6.1              \nmissingno             0.4.2              \nmistune               0.8.4              \nmkl-service           2.3.0              \nnbconvert             5.6.1              \nnbformat              5.0.6              \nnetworkx              2.4                \nnotebook              6.0.3              \nnumba                 0.48.0             \nnumpy                 1.18.4             \nolefile               0.46               \npackaging             20.1               \npandas                1.0.3              \npandas-profiling      2.8.0              \npandocfilters         1.4.2              \nparso                 0.7.0              \npatsy                 0.5.1              \nPDPbox                0.2.0              \nphik                  0.9.11             \npickleshare           0.7.5              \nPillow                7.1.2              \npip                   20.0.2             \nplotly                4.7.1              \nprometheus-client     0.7.1              \nprompt-toolkit        3.0.5              \npsutil                5.7.0              \npycparser             2.20               \nPygments              2.6.1              \npylint                2.5.2              \npyOpenSSL             19.1.0             \npyparsing             2.4.7              \nPyQt5                 5.12.3             \nPyQt5-sip             4.19.18            \nPyQtChart             5.12               \nPyQtWebEngine         5.12.1             \npyrsistent            0.16.0             \nPySocks               1.7.1              \npython-dateutil       2.8.1              \npytz                  2020.1             \nPyWavelets            1.1.1              \npywin32               227                \npywinpty              0.5.7              \nPyYAML                5.3.1              \npyzmq                 19.0.1             \nqtconsole             4.7.4              \nQtPy                  1.9.0              \nrequests              2.23.0             \nretrying              1.3.3              \nscikit-image          0.17.2             \nscikit-learn          0.23.0             \nscipy                 1.4.1              \nseaborn               0.10.1             \nSend2Trash            1.5.0              \nsetuptools            46.2.0.post20200511\nshap                  0.35.0             \nsingledispatch        3.4.0.3            \nsix                   1.14.0             \nstatsmodels           0.11.1             \ntabulate              0.8.7              \ntangled-up-in-unicode 0.0.6              \nterminado             0.8.3              \ntestpath              0.4.4              \nthreadpoolctl         2.0.0              \ntifffile              2020.5.11          \ntoml                  0.10.1             \ntoolz                 0.10.0             \ntornado               6.0.4              \ntqdm                  4.46.0             \ntraitlets             4.3.3              \ntyped-ast             1.4.1              \nurllib3               1.25.9             \nvisions               0.4.4              \nwcwidth               0.1.9              \nwebencodings          0.5.1              \nwheel                 0.34.2             \nwidgetsnbextension    3.5.1              \nwin-inet-pton         1.1.0              \nwincertstore          0.2                \nwrapt                 1.12.1             \nxgboost               0.90               \nzipp                  3.1.0              \n"
    }
   ],
   "source": [
    "!pip list"
   ]
  },
  {
   "cell_type": "code",
   "execution_count": null,
   "metadata": {},
   "outputs": [],
   "source": [
    "create_query = \"CREATE TABLE titanic (Survived INT, Pclass INT, Name, Sex, Age, Siblings/Spouses Aboard, Parents/Children Aboard\""
   ]
  },
  {
   "cell_type": "code",
   "execution_count": null,
   "metadata": {},
   "outputs": [],
   "source": [
    "insertion_query = \"INSERT INTO TABLE titanic ()\""
   ]
  },
  {
   "cell_type": "code",
   "execution_count": null,
   "metadata": {},
   "outputs": [],
   "source": [
    "import pandas as pd"
   ]
  },
  {
   "cell_type": "code",
   "execution_count": null,
   "metadata": {},
   "outputs": [],
   "source": [
    "df = pd.read_csv('titanic.csv')"
   ]
  },
  {
   "cell_type": "code",
   "execution_count": null,
   "metadata": {},
   "outputs": [],
   "source": [
    "records = df.to_dict(\"records\")\n"
   ]
  },
  {
   "cell_type": "code",
   "execution_count": null,
   "metadata": {},
   "outputs": [],
   "source": []
  }
 ],
 "metadata": {
  "language_info": {
   "codemirror_mode": {
    "name": "ipython",
    "version": 3
   },
   "file_extension": ".py",
   "mimetype": "text/x-python",
   "name": "python",
   "nbconvert_exporter": "python",
   "pygments_lexer": "ipython3",
   "version": "3.7.6-final"
  },
  "orig_nbformat": 2,
  "kernelspec": {
   "name": "python3",
   "display_name": "Python 3"
  }
 },
 "nbformat": 4,
 "nbformat_minor": 2
}